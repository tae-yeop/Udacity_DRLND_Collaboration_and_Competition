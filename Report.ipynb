{
 "cells": [
  {
   "cell_type": "markdown",
   "metadata": {},
   "source": [
    "# Collaboration and Competition\n",
    "\n",
    "---\n",
    "\n",
    "## 0. Learning Algorithm\n",
    "---\n",
    "To solve the Unity tennis problem, I choose [MADDPG algorithm](http://arxiv.org/abs/1706.02275)(Lowe et al., Multi-Agent Actor-Critic for Mixed Cooperative-Competitive Environments)"
   ]
  },
  {
   "cell_type": "markdown",
   "metadata": {},
   "source": [
    "**Algorithm**\n",
    "\n",
    "MADDPG(Multi-Agent Deep Deterministic Policy Gradient) Algorithm extrapolates the DDPG algorithm to the multi-agent case. This general purpose algorithm is applicable to cooperative-competitive environment like this tennis problem. \n",
    "\n",
    "This algorithm takes the centralized training with decentralized execution. So each agent uses other agent's policies at training time, but this information is not used in test time. To put it concretely, critic network takes not only its own observation and action but also other agent's observations and actions. But when the agents try to choose actions at test time, they will use their own observation only.\n",
    "\n",
    "Full MADDPG training algorithm is presented as follows. Note that local actor network(not target actor network)is used to produce particular one agent's action $a_i$ when updating actor network. But the other agents' actions are just the actions sampled from replay buffer."
   ]
  },
  {
   "cell_type": "markdown",
   "metadata": {},
   "source": [
    "<br>\n",
    "<figure>\n",
    "  <img src = \"./pic/maddpg.png\" width = 80% style = \"border: thin silver solid; padding: 10px\">\n",
    "      <figcaption style = \"text-align: center; font-style: italic\">Fig 1. - MADDPG Algorithm. (Lowe et al., Multi-Agent Actor-Critic for Mixed Cooperative-Competitive Environments, 13.)</figcaption>\n",
    "</figure> \n",
    "<br>"
   ]
  },
  {
   "cell_type": "markdown",
   "metadata": {},
   "source": [
    "Just like DDPG algorithm, I use replay buffer and Ornstein-Uhlenbeck noise process. The replay buffer is shared through all agents but it stores other agent's information for the centralized action-value function. "
   ]
  },
  {
   "cell_type": "markdown",
   "metadata": {},
   "source": [
    "**Model Architecture**\n",
    "\n",
    "Based on the experiment details from [Lowe et al.](http://arxiv.org/abs/1706.02275) , I used the similar shallow and small networks. Both actor and critic networks have 3 fully connected layers. These layers are consist of an input layer and 2 hidden layers.  Since the state size is 24, So the input size of the actor network is 24. And the input size of critic network is 52, because It takes all the other agent' observations and actions. In this project, there are 2 agents, so 2*(state_size+action_size) = 54."
   ]
  },
  {
   "cell_type": "markdown",
   "metadata": {},
   "source": [
    "```\n",
    "Actor(\n",
    "  (bn1): BatchNorm1d(24, eps=1e-05, momentum=0.1, affine=True, track_running_stats=True)\n",
    "  (fc1): Linear(in_features=24, out_features=96, bias=True)\n",
    "  (bn2): BatchNorm1d(96, eps=1e-05, momentum=0.1, affine=True, track_running_stats=True)\n",
    "  (fc2): Linear(in_features=96, out_features=96, bias=True)\n",
    "  (bn3): BatchNorm1d(96, eps=1e-05, momentum=0.1, affine=True, track_running_stats=True)\n",
    "  (fc3): Linear(in_features=96, out_features=2, bias=True)\n",
    ")\n",
    "\n",
    "\n",
    "Critic(\n",
    "  (fc1): Linear(in_features=52, out_features=96, bias=True)\n",
    "  (fc2): Linear(in_features=96, out_features=96, bias=True)\n",
    "  (fc3): Linear(in_features=96, out_features=1, bias=True)\n",
    ")\n",
    "```"
   ]
  },
  {
   "cell_type": "markdown",
   "metadata": {},
   "source": [
    "## 1. Load Packages and Environment\n",
    "\n",
    "---"
   ]
  },
  {
   "cell_type": "code",
   "execution_count": 1,
   "metadata": {},
   "outputs": [],
   "source": [
    "%load_ext autoreload\n",
    "%autoreload 1"
   ]
  },
  {
   "cell_type": "code",
   "execution_count": 2,
   "metadata": {},
   "outputs": [],
   "source": [
    "import torch\n",
    "import torch.nn.functional as F\n",
    "import torch.nn.init as I\n",
    "import torch.nn as nn\n",
    "import numpy as np\n",
    "from collections import deque\n",
    "\n",
    "import os\n",
    "import json\n",
    "import glob\n",
    "import matplotlib.pyplot as plt\n",
    "%matplotlib inline\n",
    "\n",
    "%aimport ddpg, maddpg\n",
    "\n",
    "from maddpg import MADDPG\n",
    "\n",
    "device = torch.device(\"cuda:0\" if torch.cuda.is_available() else \"cpu\")"
   ]
  },
  {
   "cell_type": "code",
   "execution_count": 3,
   "metadata": {},
   "outputs": [
    {
     "name": "stderr",
     "output_type": "stream",
     "text": [
      "INFO:unityagents:\n",
      "'Academy' started successfully!\n",
      "Unity Academy name: Academy\n",
      "        Number of Brains: 1\n",
      "        Number of External Brains : 1\n",
      "        Lesson number : 0\n",
      "        Reset Parameters :\n",
      "\t\t\n",
      "Unity brain name: TennisBrain\n",
      "        Number of Visual Observations (per agent): 0\n",
      "        Vector Observation space type: continuous\n",
      "        Vector Observation space size (per agent): 8\n",
      "        Number of stacked Vector Observation: 3\n",
      "        Vector Action space type: continuous\n",
      "        Vector Action space size (per agent): 2\n",
      "        Vector Action descriptions: , \n"
     ]
    }
   ],
   "source": [
    "from unityagents import UnityEnvironment\n",
    "import numpy as np\n",
    "\n",
    "env = UnityEnvironment(file_name=\"data/Tennis_Windows_x86_64/Tennis.exe\")"
   ]
  },
  {
   "cell_type": "markdown",
   "metadata": {},
   "source": [
    "## 2. Training\n",
    "---\n",
    "### 1. Hyperparameters\n",
    "\n",
    "You need to set all the hyperparameters to run the training code or to see the actual agents's behaviours."
   ]
  },
  {
   "cell_type": "code",
   "execution_count": 4,
   "metadata": {},
   "outputs": [],
   "source": [
    "# get the default brain\n",
    "brain_name = env.brain_names[0]\n",
    "brain = env.brains[brain_name]"
   ]
  },
  {
   "cell_type": "code",
   "execution_count": 5,
   "metadata": {},
   "outputs": [
    {
     "name": "stdout",
     "output_type": "stream",
     "text": [
      "Number of agents: 2\n",
      "Size of each action: 2\n",
      "There are 2 agents. Each observes a state with length: 24\n"
     ]
    }
   ],
   "source": [
    "# reset the environment\n",
    "env_info = env.reset(train_mode=True)[brain_name]\n",
    "\n",
    "# number of agents \n",
    "num_agents = len(env_info.agents)\n",
    "print('Number of agents:', num_agents)\n",
    "\n",
    "# size of each action\n",
    "action_size = brain.vector_action_space_size\n",
    "print('Size of each action:', action_size)\n",
    "\n",
    "# examine the state space \n",
    "states = env_info.vector_observations\n",
    "state_size = states.shape[1]\n",
    "print('There are {} agents. Each observes a state with length: {}'.format(states.shape[0], state_size))"
   ]
  },
  {
   "cell_type": "code",
   "execution_count": 6,
   "metadata": {},
   "outputs": [],
   "source": [
    "model_name = 'model_18'\n",
    "model_save_path = 'model/'\n",
    "params = {}\n",
    "# Model Hyperparameters\n",
    "params['BUFFER_SIZE'] = int(1e6)\n",
    "params['BATCH_SIZE'] = 256\n",
    "params['GAMMA'] = 0.95\n",
    "params['TAU'] = 1e-2\n",
    "params['LR_ACTOR'] = 1e-3\n",
    "params['LR_CRITIC'] = 1e-3\n",
    "params['WEIGHT_DECAY'] = 0.0001\n",
    "params['TRAIN_ITER'] = 15\n",
    "params['TRAIN_FREQ'] = 10\n",
    "params['FC1'] = 96\n",
    "params['FC2'] = 96\n",
    "params['SEED'] = 0\n",
    "params['CLIPPING'] = False\n",
    "# Noise parameters\n",
    "params['SIGMA'] = 0.15\n",
    "params['THETA'] = 0.15\n",
    "params['SCALE'] = 0.9\n",
    "\n",
    "\n",
    "# model save frequency\n",
    "CHECKPOINT_FREQ = 3\n",
    "# score printing frequency\n",
    "PRINT_EVERY = 50\n",
    "GOAL_AVG_SCORE = 0.5"
   ]
  },
  {
   "cell_type": "markdown",
   "metadata": {},
   "source": [
    "### 2. Set up\n",
    "\n",
    "Check if there is previous saved model. If there are checkpoints, then load the checkpoints and scores information. "
   ]
  },
  {
   "cell_type": "code",
   "execution_count": 7,
   "metadata": {},
   "outputs": [],
   "source": [
    "def set_up(model_name, params):\n",
    "    \"\"\"\n",
    "    set up for traning\n",
    "    If the model and its score already exist, load the model and score\n",
    "    \n",
    "    Returns\n",
    "    ======\n",
    "    scores (list) : score history \n",
    "    score_deque (deque) : score window \n",
    "    current_episode (int) : current episode number \n",
    "    multiAgent (MultiAgent)\n",
    "    \"\"\"\n",
    "    target_path = model_save_path+model_name\n",
    "    # If the model already exists\n",
    "    if os.path.exists(target_path):\n",
    "        # Check it there are checkpoint files\n",
    "        if not glob.glob(target_path+'/*.pth'):\n",
    "            raise Exception('Previous model file doesnt exists')\n",
    "        # Get params from the previous saved params.json\n",
    "        with open(target_path+'/params.json', 'r') as f:\n",
    "            # previous param dict\n",
    "            prev_params = json.load(f)\n",
    "        # Get previous score data    \n",
    "        with open(target_path+'/scores.json', 'r') as f:\n",
    "            prev_score_data = json.load(f)\n",
    "            score_deque = deque(maxlen=100)\n",
    "            scores = []\n",
    "            current_episode = 1\n",
    "            if len(prev_score_data) !=0 :\n",
    "                current_episode = prev_score_data['current_episode']\n",
    "                scores = prev_score_data['scores']\n",
    "                for score in scores:\n",
    "                    score_deque.append(score)\n",
    "        \n",
    "        multiAgent = MADDPG(num_agents, state_size, action_size, params)\n",
    "        multiAgent.load_model(path=target_path)\n",
    "        \n",
    "    # If this is first time ; no previous saved model\n",
    "    else:\n",
    "        print('This is first time to run the model : {}'.format(model_name))\n",
    "        os.makedirs(target_path)\n",
    "        # Write parameters into json file\n",
    "        with open(target_path+'/params.json', 'w') as f:\n",
    "            json.dump(params, f)\n",
    "        with open(target_path+'/scores.json', 'w') as f:\n",
    "            json.dump({}, f)\n",
    "            \n",
    "        current_episode = 1\n",
    "        scores = []\n",
    "        score_deque = deque(maxlen=100)\n",
    "        multiAgent = MADDPG(num_agents, state_size, action_size, params)\n",
    "    \n",
    "    return multiAgent, scores, score_deque, current_episode, target_path"
   ]
  },
  {
   "cell_type": "code",
   "execution_count": 8,
   "metadata": {},
   "outputs": [
    {
     "name": "stdout",
     "output_type": "stream",
     "text": [
      "This is first time to run the model : model_18\n"
     ]
    }
   ],
   "source": [
    "maddpg, scores, score_deque, current_episode, target_path = set_up(model_name, params)"
   ]
  },
  {
   "cell_type": "markdown",
   "metadata": {},
   "source": [
    "###  3.Training Code"
   ]
  },
  {
   "cell_type": "code",
   "execution_count": 9,
   "metadata": {},
   "outputs": [],
   "source": [
    "def training(num_episodes=2200, max_timestep=1000):\n",
    "    \n",
    "    for i in range(current_episode,num_episodes+1):\n",
    "        env_info = env.reset(train_mode=True)[brain_name]\n",
    "        # [num_agets, state_size]\n",
    "        states = env_info.vector_observations\n",
    "        agents_scores = np.zeros(num_agents)\n",
    "        \n",
    "        for t in range(max_timestep):\n",
    "            # [num_agents, action_size]\n",
    "            actions = maddpg.act(states)\n",
    "            \n",
    "            env_info = env.step(actions)[brain_name]\n",
    "            next_states = env_info.vector_observations\n",
    "            rewards = env_info.rewards\n",
    "            dones = env_info.local_done\n",
    "            rewards = env_info.rewards\n",
    "            \n",
    "            maddpg.step(states, actions, rewards, next_states, dones)\n",
    "            agents_scores += rewards\n",
    "            states = next_states\n",
    "            if np.any(dones):\n",
    "                break\n",
    "        # Episode score\n",
    "        episode_score = max(agents_scores)\n",
    "        score_deque.append(episode_score)\n",
    "        scores.append(episode_score)\n",
    "        \n",
    "        if i % CHECKPOINT_FREQ == 0 or i==num_episodes:\n",
    "            maddpg.save_model(target_path)\n",
    "            with open(target_path+'/scores.json', 'w') as f:\n",
    "                score_data = {'current_episode':i, 'scores': scores}\n",
    "                json.dump(score_data, f)\n",
    "                \n",
    "                \n",
    "        if (i% PRINT_EVERY) == 0:\n",
    "            print('Episode : {} \\t Current Score: {:.4f} \\t Average Score : {:.4f}'. format(i, episode_score, np.mean(score_deque)))\n",
    "            \n",
    "        if np.mean(score_deque) >= GOAL_AVG_SCORE:\n",
    "            print('The number of episodes needed to solve the problem : {}'.format(i))\n",
    "            print('Episode : {} \\t Current Score: {:.4f} \\t Average Score : {:.4f}'. format(i, episode_score, np.mean(score_deque)))\n",
    "            maddpg.save_model(target_path)\n",
    "            break\n",
    "            \n",
    "    return scores, maddpg.avg_actor_history, maddpg.avg_critic_history"
   ]
  },
  {
   "cell_type": "code",
   "execution_count": 10,
   "metadata": {
    "scrolled": false
   },
   "outputs": [
    {
     "name": "stdout",
     "output_type": "stream",
     "text": [
      "Episode : 50 \t Current Score: 0.0000 \t Average Score : 0.0040\n",
      "Episode : 100 \t Current Score: 0.0000 \t Average Score : 0.0020\n",
      "Episode : 150 \t Current Score: 0.0000 \t Average Score : 0.0000\n",
      "Episode : 200 \t Current Score: 0.0000 \t Average Score : 0.0000\n",
      "Episode : 250 \t Current Score: 0.0000 \t Average Score : 0.0000\n",
      "Episode : 300 \t Current Score: 0.0000 \t Average Score : 0.0000\n",
      "Episode : 350 \t Current Score: 0.0000 \t Average Score : 0.0000\n",
      "Episode : 400 \t Current Score: 0.0000 \t Average Score : 0.0000\n",
      "Episode : 450 \t Current Score: 0.0000 \t Average Score : 0.0000\n",
      "Episode : 500 \t Current Score: 0.0000 \t Average Score : 0.0000\n",
      "Episode : 550 \t Current Score: 0.0000 \t Average Score : 0.0000\n",
      "Episode : 600 \t Current Score: 0.0000 \t Average Score : 0.0009\n",
      "Episode : 650 \t Current Score: 0.0000 \t Average Score : 0.0054\n",
      "Episode : 700 \t Current Score: 0.0000 \t Average Score : 0.0109\n",
      "Episode : 750 \t Current Score: 0.0000 \t Average Score : 0.0109\n",
      "Episode : 800 \t Current Score: 0.0000 \t Average Score : 0.0090\n",
      "Episode : 850 \t Current Score: 0.0000 \t Average Score : 0.0162\n",
      "Episode : 900 \t Current Score: 0.0000 \t Average Score : 0.0173\n",
      "Episode : 950 \t Current Score: 0.0000 \t Average Score : 0.0191\n",
      "Episode : 1000 \t Current Score: 0.0000 \t Average Score : 0.0145\n",
      "Episode : 1050 \t Current Score: 0.0000 \t Average Score : 0.0046\n",
      "Episode : 1100 \t Current Score: 0.0900 \t Average Score : 0.0162\n",
      "Episode : 1150 \t Current Score: 0.0000 \t Average Score : 0.0320\n",
      "Episode : 1200 \t Current Score: 0.0000 \t Average Score : 0.0273\n",
      "Episode : 1250 \t Current Score: 0.1000 \t Average Score : 0.0384\n",
      "Episode : 1300 \t Current Score: 0.1000 \t Average Score : 0.0717\n",
      "Episode : 1350 \t Current Score: 0.0900 \t Average Score : 0.0897\n",
      "Episode : 1400 \t Current Score: 0.1000 \t Average Score : 0.0968\n",
      "Episode : 1450 \t Current Score: 0.1000 \t Average Score : 0.1063\n",
      "Episode : 1500 \t Current Score: 0.1000 \t Average Score : 0.1156\n",
      "Episode : 1550 \t Current Score: 0.0900 \t Average Score : 0.1079\n",
      "Episode : 1600 \t Current Score: 0.0900 \t Average Score : 0.1070\n",
      "Episode : 1650 \t Current Score: 0.1000 \t Average Score : 0.1197\n",
      "Episode : 1700 \t Current Score: 0.0900 \t Average Score : 0.1504\n",
      "Episode : 1750 \t Current Score: 0.0900 \t Average Score : 0.2940\n",
      "The number of episodes needed to solve the problem : 1762\n",
      "Episode : 1762 \t Current Score: 2.6000 \t Average Score : 0.5186\n"
     ]
    }
   ],
   "source": [
    "total_score, actor_loss, critic_loss = training()"
   ]
  },
  {
   "cell_type": "markdown",
   "metadata": {},
   "source": [
    "### 4. Plot of Results"
   ]
  },
  {
   "cell_type": "code",
   "execution_count": 11,
   "metadata": {
    "scrolled": true
   },
   "outputs": [
    {
     "data": {
      "image/png": "[encoded data removed]",
      "text/plain": [
       "<Figure size 432x288 with 1 Axes>"
      ]
     },
     "metadata": {
      "needs_background": "light"
     },
     "output_type": "display_data"
    }
   ],
   "source": [
    "fig = plt.figure()\n",
    "ax=fig.add_subplot(111)\n",
    "plt.plot(np.arange(len(total_score)), total_score)\n",
    "plt.xlabel('# of episodes')\n",
    "plt.ylabel('Score')\n",
    "plt.show()"
   ]
  },
  {
   "cell_type": "code",
   "execution_count": 12,
   "metadata": {},
   "outputs": [
    {
     "data": {
      "image/png": "[encoded data removed]",
      "text/plain": [
       "<Figure size 432x288 with 1 Axes>"
      ]
     },
     "metadata": {
      "needs_background": "light"
     },
     "output_type": "display_data"
    }
   ],
   "source": [
    "fig = plt.figure()\n",
    "ax=fig.add_subplot(111)\n",
    "plt.plot(np.arange(len(actor_loss)), actor_loss)\n",
    "plt.show()"
   ]
  },
  {
   "cell_type": "code",
   "execution_count": 13,
   "metadata": {},
   "outputs": [
    {
     "data": {
      "image/png": "[encoded data removed]",
      "text/plain": [
       "<Figure size 432x288 with 1 Axes>"
      ]
     },
     "metadata": {
      "needs_background": "light"
     },
     "output_type": "display_data"
    }
   ],
   "source": [
    "fig = plt.figure()\n",
    "ax=fig.add_subplot(111)\n",
    "plt.plot(np.arange(len(critic_loss)), critic_loss)\n",
    "plt.show()"
   ]
  },
  {
   "cell_type": "markdown",
   "metadata": {},
   "source": [
    "## 3. Watch the agent"
   ]
  },
  {
   "cell_type": "code",
   "execution_count": 14,
   "metadata": {},
   "outputs": [],
   "source": [
    "# load the weights from file\n",
    "multiAgent = MADDPG(num_agents, state_size, action_size, params)\n",
    "multiAgent.load_model(path=target_path)"
   ]
  },
  {
   "cell_type": "code",
   "execution_count": 18,
   "metadata": {},
   "outputs": [
    {
     "data": {
      "text/plain": [
       "Actor(\n",
       "  (bn1): BatchNorm1d(24, eps=1e-05, momentum=0.1, affine=True, track_running_stats=True)\n",
       "  (fc1): Linear(in_features=24, out_features=96, bias=True)\n",
       "  (bn2): BatchNorm1d(96, eps=1e-05, momentum=0.1, affine=True, track_running_stats=True)\n",
       "  (fc2): Linear(in_features=96, out_features=96, bias=True)\n",
       "  (bn3): BatchNorm1d(96, eps=1e-05, momentum=0.1, affine=True, track_running_stats=True)\n",
       "  (fc3): Linear(in_features=96, out_features=2, bias=True)\n",
       ")"
      ]
     },
     "execution_count": 18,
     "metadata": {},
     "output_type": "execute_result"
    }
   ],
   "source": [
    "multiAgent.agents_list[0].local_actor"
   ]
  },
  {
   "cell_type": "code",
   "execution_count": 17,
   "metadata": {},
   "outputs": [
    {
     "data": {
      "text/plain": [
       "Critic(\n",
       "  (fc1): Linear(in_features=52, out_features=96, bias=True)\n",
       "  (fc2): Linear(in_features=96, out_features=96, bias=True)\n",
       "  (fc3): Linear(in_features=96, out_features=1, bias=True)\n",
       ")"
      ]
     },
     "execution_count": 17,
     "metadata": {},
     "output_type": "execute_result"
    }
   ],
   "source": [
    "multiAgent.agents_list[0].local_critic"
   ]
  },
  {
   "cell_type": "code",
   "execution_count": 20,
   "metadata": {},
   "outputs": [
    {
     "name": "stdout",
     "output_type": "stream",
     "text": [
      "Current Episode Score: 1.1000\n"
     ]
    }
   ],
   "source": [
    "scores = np.zeros(num_agents)\n",
    "env_info = env.reset(train_mode=False)[brain_name]\n",
    "state = env_info.vector_observations\n",
    "while True:\n",
    "    actions = multiAgent.act(states)\n",
    "            \n",
    "    env_info = env.step(actions)[brain_name]\n",
    "    next_states = env_info.vector_observations\n",
    "    rewards = env_info.rewards\n",
    "    dones = env_info.local_done\n",
    "    rewards = env_info.rewards\n",
    "\n",
    "    multiAgent.step(states, actions, rewards, next_states, dones)\n",
    "    scores += rewards\n",
    "    states = next_states\n",
    "    if np.any(dones):\n",
    "        break \n",
    "            \n",
    "episode_score = max(scores)\n",
    "print('Current Episode Score: {:.4f}'. format(episode_score))\n",
    "env.close()"
   ]
  },
  {
   "cell_type": "markdown",
   "metadata": {},
   "source": [
    "## 4. Future Works"
   ]
  },
  {
   "cell_type": "markdown",
   "metadata": {},
   "source": [
    "Even though the problem can be solved by the current settings, It has several things to be imporved. First off, More fine-tuning hyper-paramters might be good start, but it could cost too much times. There are some ideas and I leave these investigations to future work.\n",
    "\n",
    "1. *Prioritized Experience Replay*\n",
    "\n",
    "    Current replay buffer samples the experience unfiormly. But certain experience might be more important than ohters. So by giving some probability based on priority to each experince, [Priortized Experience Replay buffer](https://arxiv.org/abs/1511.05952) can sample important expericens more frequently.\n",
    "    \n",
    "        \n",
    "2. *Applying Other Actor-Critic methods*\n",
    "    \n",
    "    There are many other actor-critic method such as TRPO(Trust Region Policy Optimization), TNPG(Truncated Natural Policy Gradient) which outperform the DDPG algorithm([Duan et al., Benchmarking Deep Reinforcement Learning for Continuous Control](https://arxiv.org/abs/1604.06778)). The current DDPG algorithm update actor network by using the policy gradient which depends on critic network. So the quality of critic learning procedure might impact the performance of actor network. There have been researches to improve critic learning procedure([Bellemare et al., A Distributional Perspective on Reinforcement Learning](https://arxiv.org/pdf/1707.06887.pdf)). [Barth-Maron et al.](http://arxiv.org/abs/1804.08617) proposed D4PG algorithm with several ideas such as modifying the training procedure and utilizing N-step returns. These works are candidates for the future works.\n",
    "    \n",
    "    \n",
    "3. *Other Normalization Techniques*\n",
    "\n",
    "    Current model only use batch normalization in actor network. I didn't use batch normalization layer in critic network because pytorch interprete 3D shape tensor input such as state tensor[batch_size, num_agents, state_size] in different way from what i expect. Pytorch has [other normalization layers](https://pytorch.org/docs/stable/nn.html#normalization-layers) like layer norm, instance norm, local reponse norm. These normalization layers might improve the training of networks."
   ]
  }
 ],
 "metadata": {
  "kernelspec": {
   "display_name": "Python 3",
   "language": "python",
   "name": "python3"
  },
  "language_info": {
   "codemirror_mode": {
    "name": "ipython",
    "version": 3
   },
   "file_extension": ".py",
   "mimetype": "text/x-python",
   "name": "python",
   "nbconvert_exporter": "python",
   "pygments_lexer": "ipython3",
   "version": "3.6.8"
  }
 },
 "nbformat": 4,
 "nbformat_minor": 2
}
